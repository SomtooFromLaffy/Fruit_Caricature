{
  "nbformat": 4,
  "nbformat_minor": 0,
  "metadata": {
    "colab": {
      "provenance": []
    },
    "kernelspec": {
      "name": "python3",
      "display_name": "Python 3"
    },
    "language_info": {
      "name": "python"
    },
    "accelerator": "GPU",
    "gpuClass": "standard"
  },
  "cells": [
    {
      "cell_type": "code",
      "execution_count": 11,
      "metadata": {
        "colab": {
          "base_uri": "https://localhost:8080/"
        },
        "id": "IuQLhHTtt8ku",
        "outputId": "187316db-8d72-4bda-b874-9a04844fd737"
      },
      "outputs": [
        {
          "output_type": "stream",
          "name": "stdout",
          "text": [
            "Length of apple : 100000\n",
            "Length of banana : 100000\n",
            "Length of pear : 100000\n",
            "Length of pineapple : 100000\n",
            "Length of strawberry : 100000\n",
            "features : (500000, 28, 28)\n",
            "target : (500000, 5)\n"
          ]
        }
      ],
      "source": [
        "import numpy as np\n",
        "import pandas as pd\n",
        "%matplotlib inline\n",
        "import matplotlib.pyplot as plt\n",
        "from sklearn.metrics import accuracy_score, confusion_matrix, roc_curve, roc_auc_score\n",
        "from sklearn.model_selection import train_test_split, GridSearchCV\n",
        "import keras\n",
        "from keras.models import Sequential\n",
        "from keras.layers import Dense, Dropout, Flatten\n",
        "from keras.layers.convolutional import Conv2D, MaxPooling2D\n",
        "from keras.utils import np_utils\n",
        "from keras import backend as K\n",
        "\n",
        "\n",
        "# Fruit class contains the methods needed to derive the attributes and process the dataset\n",
        "# \n",
        "class fruit:\n",
        "  def __init__(self, fruitname, index):\n",
        "    self.fruitname = fruitname\n",
        "    self.index = index\n",
        "    self.dataset = np.load(f'full_numpy_bitmap_{fruitname}.npy')[:100000]\n",
        "    print(f'Length of {self.fruitname} : {len(self.dataset)}')\n",
        "    self.target = self.annotate_dataset()\n",
        "\n",
        "\n",
        "    \n",
        "\n",
        "  def shape(self):\n",
        "    return self.dataset.shape\n",
        "\n",
        "  def annotate_dataset(self):\n",
        "    target = np.arange(self.shape()[0])\n",
        "    target.fill(self.index)\n",
        "    return target\n",
        "\n",
        "  def plot_sample(self):\n",
        "    fig, ax = plt.subplots(figsize=(5,5))\n",
        "    plt.title(f'Sample of the {self.fruitname} drawings')\n",
        "\n",
        "    for i in range(1,26):\n",
        "      sub = fig.add_subplot(5, 5, i)\n",
        "      sub.imshow(self.dataset[0,i,:,:], interpolation='nearest')\n",
        "\n",
        "    plt.show()\n",
        "\n",
        "\n",
        "\n",
        "# Create a class of each fruit\n",
        "classification_items = ['apple', 'banana', 'pear', 'pineapple', 'strawberry']\n",
        "class_creation = [fruit(classification_items[i], i) for i in range(len(classification_items))]\n",
        "\n",
        "\n",
        "# Derive the dataset from each fruit.\n",
        "features = [fruit.dataset for fruit in class_creation]\n",
        "targets = [fruit.target for fruit in class_creation]\n",
        "\n",
        "#Combine all the data samples for all the fruit samples\n",
        "#Image features are reshaped to 28,28 arrays.\n",
        "#Target variables are converted from the index variables they are identified with\n",
        "#one-hot encoded for the CNN model\n",
        "features = np.concatenate(features)\n",
        "features = features.reshape(features.shape[0], 28,28)\n",
        "targets = np.concatenate(targets)\n",
        "targets = np_utils.to_categorical(targets)\n",
        "\n",
        "print(f'features : {features.shape}')\n",
        "print(f'target : {targets.shape}')\n",
        "\n",
        "\n",
        "#Shuffling the dataset and splitting into train, test and validation datasets\n",
        "features_train, features_test, targets_train, targets_test = train_test_split(features,targets,test_size=0.2,random_state=45)\n",
        "\n",
        "\n",
        "features_train, features_validation, targets_train, targets_validation = train_test_split(features,targets,test_size=0.3,random_state=40)\n",
        "\n",
        "\n",
        "\n",
        "\n",
        "\n",
        "\n",
        "\n",
        "\n",
        "\n",
        "\n"
      ]
    },
    {
      "cell_type": "code",
      "source": [
        "#Model created.\n",
        "#Dropout values considered include 0.1, 0.2, 0.25\n",
        "#Dense Layer values considered are 516(good slight overfit), 256, 64 and 128\n",
        "\n",
        "model = Sequential()\n",
        "model.add(Conv2D(30, (3, 3), input_shape=(28, 28,1), activation='relu'))\n",
        "model.add(MaxPooling2D(pool_size=(2, 2)))\n",
        "model.add(Conv2D(15, (3, 3), activation='relu'))\n",
        "model.add(MaxPooling2D(pool_size=(2, 2)))\n",
        "model.add(Dropout(0.2))\n",
        "model.add(Flatten())\n",
        "model.add(Dense(128, activation='relu'))\n",
        "model.add(Dense(64, activation='relu'))\n",
        "model.add(Dense(len(classification_items), activation='softmax'))\n",
        "# Compile model\n",
        "model.compile(loss='categorical_crossentropy', optimizer='adam', metrics=['accuracy'])\n",
        "\n",
        "history = model.fit(features_train, targets_train, validation_data=(features_validation,targets_validation), epochs=25, batch_size=150)\n",
        "scores = model.evaluate(features_test, targets_test, verbose=0)\n",
        "print('Final CNN accuracy: ', scores[1])\n"
      ],
      "metadata": {
        "colab": {
          "base_uri": "https://localhost:8080/"
        },
        "id": "lHBB9GFKu5AM",
        "outputId": "43112ec7-74f9-4577-fc5d-6e94a82332fa"
      },
      "execution_count": 23,
      "outputs": [
        {
          "output_type": "stream",
          "name": "stdout",
          "text": [
            "Epoch 1/25\n",
            "2334/2334 [==============================] - 19s 7ms/step - loss: 0.3950 - accuracy: 0.8846 - val_loss: 0.2157 - val_accuracy: 0.9251\n",
            "Epoch 2/25\n",
            "2334/2334 [==============================] - 18s 8ms/step - loss: 0.2241 - accuracy: 0.9226 - val_loss: 0.1942 - val_accuracy: 0.9325\n",
            "Epoch 3/25\n",
            "2334/2334 [==============================] - 16s 7ms/step - loss: 0.2027 - accuracy: 0.9301 - val_loss: 0.1861 - val_accuracy: 0.9353\n",
            "Epoch 4/25\n",
            "2334/2334 [==============================] - 15s 6ms/step - loss: 0.1893 - accuracy: 0.9341 - val_loss: 0.1746 - val_accuracy: 0.9393\n",
            "Epoch 5/25\n",
            "2334/2334 [==============================] - 15s 6ms/step - loss: 0.1799 - accuracy: 0.9372 - val_loss: 0.1747 - val_accuracy: 0.9393\n",
            "Epoch 6/25\n",
            "2334/2334 [==============================] - 15s 6ms/step - loss: 0.1745 - accuracy: 0.9395 - val_loss: 0.1694 - val_accuracy: 0.9411\n",
            "Epoch 7/25\n",
            "2334/2334 [==============================] - 15s 6ms/step - loss: 0.1693 - accuracy: 0.9415 - val_loss: 0.1729 - val_accuracy: 0.9396\n",
            "Epoch 8/25\n",
            "2334/2334 [==============================] - 14s 6ms/step - loss: 0.1661 - accuracy: 0.9425 - val_loss: 0.1611 - val_accuracy: 0.9443\n",
            "Epoch 9/25\n",
            "2334/2334 [==============================] - 15s 6ms/step - loss: 0.1621 - accuracy: 0.9439 - val_loss: 0.1609 - val_accuracy: 0.9446\n",
            "Epoch 10/25\n",
            "2334/2334 [==============================] - 15s 6ms/step - loss: 0.1599 - accuracy: 0.9444 - val_loss: 0.1636 - val_accuracy: 0.9438\n",
            "Epoch 11/25\n",
            "2334/2334 [==============================] - 15s 6ms/step - loss: 0.1576 - accuracy: 0.9452 - val_loss: 0.1628 - val_accuracy: 0.9442\n",
            "Epoch 12/25\n",
            "2334/2334 [==============================] - 15s 6ms/step - loss: 0.1553 - accuracy: 0.9461 - val_loss: 0.1603 - val_accuracy: 0.9446\n",
            "Epoch 13/25\n",
            "2334/2334 [==============================] - 15s 6ms/step - loss: 0.1533 - accuracy: 0.9466 - val_loss: 0.1604 - val_accuracy: 0.9444\n",
            "Epoch 14/25\n",
            "2334/2334 [==============================] - 18s 8ms/step - loss: 0.1522 - accuracy: 0.9466 - val_loss: 0.1598 - val_accuracy: 0.9449\n",
            "Epoch 15/25\n",
            "2334/2334 [==============================] - 14s 6ms/step - loss: 0.1511 - accuracy: 0.9475 - val_loss: 0.1575 - val_accuracy: 0.9459\n",
            "Epoch 16/25\n",
            "2334/2334 [==============================] - 14s 6ms/step - loss: 0.1491 - accuracy: 0.9480 - val_loss: 0.1602 - val_accuracy: 0.9448\n",
            "Epoch 17/25\n",
            "2334/2334 [==============================] - 15s 6ms/step - loss: 0.1481 - accuracy: 0.9483 - val_loss: 0.1561 - val_accuracy: 0.9470\n",
            "Epoch 18/25\n",
            "2334/2334 [==============================] - 19s 8ms/step - loss: 0.1464 - accuracy: 0.9491 - val_loss: 0.1609 - val_accuracy: 0.9446\n",
            "Epoch 19/25\n",
            "2334/2334 [==============================] - 15s 6ms/step - loss: 0.1466 - accuracy: 0.9487 - val_loss: 0.1576 - val_accuracy: 0.9463\n",
            "Epoch 20/25\n",
            "2334/2334 [==============================] - 14s 6ms/step - loss: 0.1452 - accuracy: 0.9495 - val_loss: 0.1589 - val_accuracy: 0.9456\n",
            "Epoch 21/25\n",
            "2334/2334 [==============================] - 15s 6ms/step - loss: 0.1439 - accuracy: 0.9495 - val_loss: 0.1573 - val_accuracy: 0.9462\n",
            "Epoch 22/25\n",
            "2334/2334 [==============================] - 18s 8ms/step - loss: 0.1435 - accuracy: 0.9499 - val_loss: 0.1582 - val_accuracy: 0.9459\n",
            "Epoch 23/25\n",
            "2334/2334 [==============================] - 14s 6ms/step - loss: 0.1435 - accuracy: 0.9498 - val_loss: 0.1599 - val_accuracy: 0.9456\n",
            "Epoch 24/25\n",
            "2334/2334 [==============================] - 15s 6ms/step - loss: 0.1422 - accuracy: 0.9502 - val_loss: 0.1581 - val_accuracy: 0.9464\n",
            "Epoch 25/25\n",
            "2334/2334 [==============================] - 15s 7ms/step - loss: 0.1417 - accuracy: 0.9506 - val_loss: 0.1580 - val_accuracy: 0.9462\n",
            "Final CNN accuracy:  0.9548500180244446\n"
          ]
        }
      ]
    },
    {
      "cell_type": "code",
      "source": [
        "#View the model performance to ensure abscence of overfit and underfit\n",
        "history.history\n",
        "plt.plot(history.history['accuracy'])\n",
        "plt.plot(history.history['val_accuracy'])\n",
        "plt.title('model accuracy')\n",
        "plt.ylabel('accuracy')\n",
        "plt.xlabel('epoch')\n",
        "plt.legend(['train', 'val'], loc='upper left')\n",
        "plt.show()"
      ],
      "metadata": {
        "colab": {
          "base_uri": "https://localhost:8080/",
          "height": 295
        },
        "id": "lZkzL4_1WvlU",
        "outputId": "86899f74-9020-4b4f-a94d-05a74460e41f"
      },
      "execution_count": 24,
      "outputs": [
        {
          "output_type": "display_data",
          "data": {
            "text/plain": [
              "<Figure size 432x288 with 1 Axes>"
            ],
            "image/png": "[encoded data removed]"
          },
          "metadata": {
            "needs_background": "light"
          }
        }
      ]
    },
    {
      "cell_type": "code",
      "source": [
        "scores"
      ],
      "metadata": {
        "colab": {
          "base_uri": "https://localhost:8080/"
        },
        "id": "H4A6Fguon6OB",
        "outputId": "d969c951-c378-4536-c82a-61fdda9a4bb6"
      },
      "execution_count": 29,
      "outputs": [
        {
          "output_type": "execute_result",
          "data": {
            "text/plain": [
              "[0.13051055371761322, 0.9548500180244446]"
            ]
          },
          "metadata": {},
          "execution_count": 29
        }
      ]
    },
    {
      "cell_type": "code",
      "source": [
        "#Save the model\n",
        "import pickle\n",
        "with open('5_Fruit_Classification_model.pkl', 'wb') as file:\n",
        "      pickle.dump(model, file)"
      ],
      "metadata": {
        "colab": {
          "base_uri": "https://localhost:8080/"
        },
        "id": "hrWB_EqGZ7mu",
        "outputId": "19d2056b-5d34-4299-82e8-14e740f59388"
      },
      "execution_count": 25,
      "outputs": [
        {
          "output_type": "stream",
          "name": "stdout",
          "text": [
            "Keras weights file (<HDF5 file \"variables.h5\" (mode r+)>) saving:\n",
            "...layers\n",
            "......conv2d\n",
            ".........vars\n",
            "............0\n",
            "............1\n",
            "......conv2d_1\n",
            ".........vars\n",
            "............0\n",
            "............1\n",
            "......dense\n",
            ".........vars\n",
            "............0\n",
            "............1\n",
            "......dense_1\n",
            ".........vars\n",
            "............0\n",
            "............1\n",
            "......dense_2\n",
            ".........vars\n",
            "............0\n",
            "............1\n",
            "......dropout\n",
            ".........vars\n",
            "......flatten\n",
            ".........vars\n",
            "......max_pooling2d\n",
            ".........vars\n",
            "......max_pooling2d_1\n",
            ".........vars\n",
            "...metrics\n",
            "......mean\n",
            ".........vars\n",
            "............0\n",
            "............1\n",
            "......mean_metric_wrapper\n",
            ".........vars\n",
            "............0\n",
            "............1\n",
            "...optimizer\n",
            "......vars\n",
            ".........0\n",
            ".........1\n",
            ".........10\n",
            ".........11\n",
            ".........12\n",
            ".........13\n",
            ".........14\n",
            ".........15\n",
            ".........16\n",
            ".........17\n",
            ".........18\n",
            ".........19\n",
            ".........2\n",
            ".........20\n",
            ".........3\n",
            ".........4\n",
            ".........5\n",
            ".........6\n",
            ".........7\n",
            ".........8\n",
            ".........9\n",
            "...vars\n",
            "Keras model archive saving:\n",
            "File Name                                             Modified             Size\n",
            "config.json                                    2023-03-14 05:30:42         3671\n",
            "variables.h5                                   2023-03-14 05:30:42       749840\n",
            "metadata.json                                  2023-03-14 05:30:42           64\n"
          ]
        }
      ]
    }
  ]
}